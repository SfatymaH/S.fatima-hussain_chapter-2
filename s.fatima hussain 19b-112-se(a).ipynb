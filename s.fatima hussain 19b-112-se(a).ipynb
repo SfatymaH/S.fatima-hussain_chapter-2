{
 "cells": [
  {
   "cell_type": "markdown",
   "metadata": {},
   "source": [
    "# SOLVED QUESTION PAGE 15 TILL 35"
   ]
  },
  {
   "cell_type": "code",
   "execution_count": 1,
   "metadata": {},
   "outputs": [
    {
     "name": "stdout",
     "output_type": "stream",
     "text": [
      "5 3 0.5 9 11 28 0.17237037037037037\n"
     ]
    }
   ],
   "source": [
    "#simple algebraic expressions\n",
    "a=3 + 2\n",
    "b=6 - 3\n",
    "c=4 / 8\n",
    "d=1 * 9\n",
    "e=2*4+3\n",
    "f=(3+1)*7\n",
    "g=4.654/(4+23)\n",
    "print(a,b,c,d,e,f,g)"
   ]
  },
  {
   "cell_type": "code",
   "execution_count": 2,
   "metadata": {},
   "outputs": [
    {
     "name": "stdout",
     "output_type": "stream",
     "text": [
      "True False True False\n"
     ]
    }
   ],
   "source": [
    "#true and false\n",
    "a=2 < 3\n",
    "b=2 < 3 and 4 > 5\n",
    "c=3 < 4 or 4 < 3\n",
    "d=3 < 2 or 2 < 1 \n",
    "print(a,b,c,d)\n",
    "\n"
   ]
  },
  {
   "cell_type": "code",
   "execution_count": 3,
   "metadata": {},
   "outputs": [
    {
     "name": "stdout",
     "output_type": "stream",
     "text": [
      "16\n"
     ]
    }
   ],
   "source": [
    "\n",
    "#When Python evaluates an expression containing a variable\n",
    "\n",
    "x=4\n",
    "4*x\n",
    "counter = 4*x\n",
    "print(counter)\n",
    "\n"
   ]
  },
  {
   "cell_type": "code",
   "execution_count": 4,
   "metadata": {},
   "outputs": [
    {
     "name": "stdout",
     "output_type": "stream",
     "text": [
      "25\n"
     ]
    }
   ],
   "source": [
    "#write python program\n",
    "\n",
    "a=3\n",
    "b=4\n",
    "c=a*a+b*b\n",
    "print (c)\n",
    "\n"
   ]
  },
  {
   "cell_type": "code",
   "execution_count": 5,
   "metadata": {},
   "outputs": [
    {
     "name": "stdout",
     "output_type": "stream",
     "text": [
      "7\n"
     ]
    }
   ],
   "source": [
    "\n",
    "#suppose that the value of variable x\n",
    "\n",
    "x=4\n",
    "x=7\n",
    "print (x)\n",
    "\n"
   ]
  },
  {
   "cell_type": "code",
   "execution_count": 6,
   "metadata": {},
   "outputs": [
    {
     "name": "stdout",
     "output_type": "stream",
     "text": [
      "hello\n"
     ]
    }
   ],
   "source": [
    "#string\n",
    "\n",
    "'hello, world'\n",
    "s='hello'\n",
    "print(s)\n"
   ]
  },
  {
   "cell_type": "code",
   "execution_count": 7,
   "metadata": {},
   "outputs": [
    {
     "name": "stdout",
     "output_type": "stream",
     "text": [
      "hello\n"
     ]
    }
   ],
   "source": [
    "#string\n",
    "\n",
    "'hello, world'\n",
    "s='hello'\n",
    "print(s)\n"
   ]
  },
  {
   "cell_type": "code",
   "execution_count": 8,
   "metadata": {},
   "outputs": [
    {
     "data": {
      "text/plain": [
       "True"
      ]
     },
     "execution_count": 8,
     "metadata": {},
     "output_type": "execute_result"
    }
   ],
   "source": [
    "#String Operators\n",
    "\n",
    "s == 'hello'\n",
    "t = 'world'\n",
    "s != t and s < t \n",
    "\n",
    "\n",
    "3 * 'A'\n",
    "\n",
    "\n",
    "'hello ' * 2\n",
    "\n",
    "s = 'hello'\n",
    "'h' in s "
   ]
  },
  {
   "cell_type": "code",
   "execution_count": 9,
   "metadata": {},
   "outputs": [
    {
     "name": "stdout",
     "output_type": "stream",
     "text": [
      "goldfish\n",
      "cat\n"
     ]
    }
   ],
   "source": [
    "\n",
    "pets = ['goldfish', 'cat', 'dog'] \n",
    "print(pets[0])\n",
    "print(pets[1])\n",
    "\n"
   ]
  },
  {
   "cell_type": "code",
   "execution_count": 10,
   "metadata": {},
   "outputs": [
    {
     "name": "stdout",
     "output_type": "stream",
     "text": [
      "19.99\n",
      "120.99\n",
      "199.46999999999997\n"
     ]
    }
   ],
   "source": [
    "lst = [23.99, 19.99, 34.50, 120.99] \n",
    "print(min(lst))\n",
    "print(max(lst))\n",
    "print(sum(lst))\n",
    "\n"
   ]
  },
  {
   "cell_type": "code",
   "execution_count": 11,
   "metadata": {},
   "outputs": [
    {
     "name": "stdout",
     "output_type": "stream",
     "text": [
      "('Mo', 'Tu', 'We')\n",
      "('Mo', 'Tu', 'We', 'Th')\n",
      "('Mo', 'Tu', 'We', 'Th', 'Fr', 'Sa', 'Su')\n"
     ]
    },
    {
     "data": {
      "text/plain": [
       "('Mo',\n",
       " 'Tu',\n",
       " 'We',\n",
       " 'Th',\n",
       " 'Fr',\n",
       " 'Sa',\n",
       " 'Su',\n",
       " 'Mo',\n",
       " 'Tu',\n",
       " 'We',\n",
       " 'Th',\n",
       " 'Fr',\n",
       " 'Sa',\n",
       " 'Su')"
      ]
     },
     "execution_count": 11,
     "metadata": {},
     "output_type": "execute_result"
    }
   ],
   "source": [
    "days = ('Mo', 'Tu', 'We')\n",
    "print(days)\n",
    "days = 'Mo', 'Tu', 'We', 'Th'\n",
    "print(days)\n",
    "'Fr' in days \n",
    "week = days + ('Fr', 'Sa', 'Su') \n",
    "print(week)\n",
    "len(week) \n",
    "2*week "
   ]
  },
  {
   "cell_type": "code",
   "execution_count": 12,
   "metadata": {},
   "outputs": [
    {
     "name": "stdout",
     "output_type": "stream",
     "text": [
      "['goldfish', 'cymric cat', 'dog', 'guinea pig']\n",
      "['guinea pig', 'dog', 'cymric cat', 'goldfish']\n"
     ]
    },
    {
     "data": {
      "text/plain": [
       "1"
      ]
     },
     "execution_count": 12,
     "metadata": {},
     "output_type": "execute_result"
    }
   ],
   "source": [
    "numbers = [6, 9, 4, 22]\n",
    "min(numbers)\n",
    "\n",
    "\n",
    "\n",
    "pets = ['goldfish', 'cymric cat', 'dog']\n",
    "pets.append('guinea pig')\n",
    "print(pets) \n",
    "pets.reverse()\n",
    "print(pets) \n",
    "pets.count('dog')"
   ]
  },
  {
   "cell_type": "code",
   "execution_count": null,
   "metadata": {},
   "outputs": [],
   "source": []
  }
 ],
 "metadata": {
  "kernelspec": {
   "display_name": "Python 3",
   "language": "python",
   "name": "python3"
  },
  "language_info": {
   "codemirror_mode": {
    "name": "ipython",
    "version": 3
   },
   "file_extension": ".py",
   "mimetype": "text/x-python",
   "name": "python",
   "nbconvert_exporter": "python",
   "pygments_lexer": "ipython3",
   "version": "3.6.4"
  }
 },
 "nbformat": 4,
 "nbformat_minor": 2
}
